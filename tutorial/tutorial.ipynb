{
 "cells": [
  {
   "cell_type": "code",
   "execution_count": null,
   "metadata": {},
   "outputs": [],
   "source": [
    "import SpaDecon as spd\n",
    "import scanpy as sc\n",
    "import pandas as pd\n",
    "import numpy as np\n",
    "from skimage import io\n",
    "import os"
   ]
  },
  {
   "cell_type": "code",
   "execution_count": null,
   "metadata": {},
   "outputs": [],
   "source": [
    "#Please download the spadecon_tutorial_data folder from https://drive.google.com/drive/folders/1_eBGKMVYh4p1eiHhrJASnqOD9z_CP5e0?usp=sharing\n",
    "#set working directory to spadecon_tutorial_data using os.chdir()\n",
    "\n",
    "#Read annotated scRNA-seq GE data (rows = cells, columns = genes, cell types in adata_sc.obs.celltype)\n",
    "adata_sc = sc.read('bc_sc.h5ad')\n",
    "\n",
    "#Read SRT GE data (rows = spots, columns = genes)\n",
    "adata_st = sc.read_10x_h5('V1_Breast_Cancer_Block_A_Section_1_filtered_feature_bc_matrix.h5')\n",
    "adata_st.var_names_make_unique()\n",
    "\n",
    "#Read SRT histology image\n",
    "histology = io.imread(\"V1_Breast_Cancer_Block_A_Section_1_image.tif\")\n",
    "\n",
    "#Read file with SRT spatial locations\n",
    "locations = pd.read_csv('tissue_positions_list.csv', header = None, index_col = 0)\n",
    "locations = locations.loc[adata_st.obs.index]\n",
    "\n",
    "np.random.seed(10)\n",
    "clf = spd.SpaDecon()\n",
    "clf.deconvolution(source_data=adata_sc, target_data=adata_st, histology_image=histology, spatial_locations=locations, technology = 'Visium')"
   ]
  },
  {
   "cell_type": "code",
   "execution_count": null,
   "metadata": {},
   "outputs": [],
   "source": [
    "spadecon_props = clf.props\n",
    "spadecon_props.to_csv('spadecon_props.csv')"
   ]
  },
  {
   "cell_type": "code",
   "execution_count": null,
   "metadata": {},
   "outputs": [],
   "source": []
  }
 ],
 "metadata": {
  "kernelspec": {
   "display_name": "spadecon",
   "language": "python",
   "name": "spadecon"
  },
  "language_info": {
   "codemirror_mode": {
    "name": "ipython",
    "version": 3
   },
   "file_extension": ".py",
   "mimetype": "text/x-python",
   "name": "python",
   "nbconvert_exporter": "python",
   "pygments_lexer": "ipython3",
   "version": "3.7.4"
  }
 },
 "nbformat": 4,
 "nbformat_minor": 5
}
