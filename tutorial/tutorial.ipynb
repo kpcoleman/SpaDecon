{
 "cells": [
  {
   "cell_type": "code",
   "execution_count": null,
   "id": "69d80003",
   "metadata": {},
   "outputs": [],
   "source": [
    "import SpaDecon as spd\n",
    "import scanpy as sc\n",
    "import pandas as pd\n",
    "import numpy as np\n",
    "from skimage import io\n",
    "import os"
   ]
  },
  {
   "cell_type": "code",
   "execution_count": null,
   "id": "28d573a2",
   "metadata": {},
   "outputs": [],
   "source": [
    "#Please download the spadecon_tutorial_data folder from https://drive.google.com/drive/folders/1_eBGKMVYh4p1eiHhrJASnqOD9z_CP5e0?usp=sharing\n",
    "\n",
    "#set working directory to spadecon_tutorial_data using os.chdir()\n",
    "\n",
    "#The next two code chunks give the same results; only run one of them depending on data file preference\n",
    "os.chdir('/Users/kylepcoleman/Downloads/spadecon_tutorial_data/')"
   ]
  },
  {
   "cell_type": "code",
   "execution_count": null,
   "id": "5eec58bb",
   "metadata": {},
   "outputs": [],
   "source": [
    "#Read in scRNA-seq/SRT GE data using h5/h5ad files\n",
    "\n",
    "#Read annotated scRNA-seq GE data (rows = cells, columns = genes, cell types in adata_sc.obs.celltype)\n",
    "adata_sc = sc.read('bc_sc.h5ad')\n",
    "\n",
    "#Read SRT GE data (rows = spots, columns = genes)\n",
    "adata_srt = sc.read_10x_h5('V1_Breast_Cancer_Block_A_Section_1_filtered_feature_bc_matrix.h5')\n",
    "adata_srt.var_names_make_unique()"
   ]
  },
  {
   "cell_type": "code",
   "execution_count": null,
   "id": "5d74c59f",
   "metadata": {},
   "outputs": [],
   "source": [
    "#Read in scRNA-seq/SRT GE data using csv files\n",
    "\n",
    "#Read scRNA-seq GE data (rows = cells, columns = genes)\n",
    "sc_ge = pd.read_csv('bc_sc_ge.csv', index_col = 0)\n",
    "  \n",
    "#Read scRNA-seq cell-type labels\n",
    "sc_types = pd.read_csv('bc_sc_types.csv', index_col = 0)\n",
    "  \n",
    "#Convert scRNA-seq GE data to AnnData object\n",
    "adata_sc = sc.AnnData(sc_ge)\n",
    "  \n",
    "#Insert cell-type labels into \"celltype\" column adata_sc.obs\n",
    "adata_sc.obs['celltype'] = sc_types['celltype']\n",
    "  \n",
    "#Read SRT GE data (rows = cells, columns = genes)\n",
    "srt_ge = pd.read_csv('bc_srt_ge.csv', index_col = 0)\n",
    "  \n",
    "#Convert SRT GE data to AnnData object\n",
    "adata_srt = sc.AnnData(srt_ge)"
   ]
  },
  {
   "cell_type": "code",
   "execution_count": null,
   "id": "cfe58fd4",
   "metadata": {},
   "outputs": [],
   "source": [
    "#Read SRT histology image\n",
    "histology = io.imread(\"V1_Breast_Cancer_Block_A_Section_1_image.tif\")\n",
    "\n",
    "#Read file with SRT spatial locations\n",
    "locations = pd.read_csv('tissue_positions_list.csv', header = None, index_col = 0)\n",
    "locations = locations.loc[adata_srt.obs.index]"
   ]
  },
  {
   "cell_type": "code",
   "execution_count": null,
   "id": "b2149c8c",
   "metadata": {
    "scrolled": true
   },
   "outputs": [],
   "source": [
    "#Run SpaDecon\n",
    "\n",
    "np.random.seed(10)\n",
    "clf = spd.SpaDecon()\n",
    "#The technology parameter is used to determine an upper bound on the number of cell types per spot (specify \"Visium\" or \"ST\")\n",
    "clf.deconvolution(source_data=adata_sc, target_data=adata_srt, histology_image=histology, spatial_locations=locations, technology = 'Visium')"
   ]
  },
  {
   "cell_type": "code",
   "execution_count": null,
   "id": "bdda0ce2",
   "metadata": {},
   "outputs": [],
   "source": [
    "spadecon_props = clf.props\n",
    "spadecon_props.to_csv('spadecon_props.csv')"
   ]
  }
 ],
 "metadata": {
  "kernelspec": {
   "display_name": "spadecon",
   "language": "python",
   "name": "spadecon"
  },
  "language_info": {
   "codemirror_mode": {
    "name": "ipython",
    "version": 3
   },
   "file_extension": ".py",
   "mimetype": "text/x-python",
   "name": "python",
   "nbconvert_exporter": "python",
   "pygments_lexer": "ipython3",
   "version": "3.7.4"
  }
 },
 "nbformat": 4,
 "nbformat_minor": 5
}
