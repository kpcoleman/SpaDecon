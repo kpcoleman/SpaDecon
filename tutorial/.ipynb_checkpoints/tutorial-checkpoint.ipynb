{
 "cells": [
  {
   "cell_type": "code",
   "execution_count": 1,
   "metadata": {},
   "outputs": [
    {
     "name": "stderr",
     "output_type": "stream",
     "text": [
      "Using TensorFlow backend.\n"
     ]
    }
   ],
   "source": [
    "import SpaDecon as spd\n",
    "import scanpy as sc\n",
    "import pandas as pd\n",
    "import numpy as np\n",
    "from skimage import io\n",
    "import timeit"
   ]
  },
  {
   "cell_type": "code",
   "execution_count": 2,
   "metadata": {},
   "outputs": [
    {
     "name": "stderr",
     "output_type": "stream",
     "text": [
      "Variable names are not unique. To make them unique, call `.var_names_make_unique`.\n",
      "Variable names are not unique. To make them unique, call `.var_names_make_unique`.\n"
     ]
    },
    {
     "name": "stdout",
     "output_type": "stream",
     "text": [
      "...Calculating adjacency matrix using spatial locations and histology image...\n",
      "   Adjacency matrix calculated\n",
      "...Finding optimal l for p=0.5...\n",
      "   l=0.8690000000000001, p=0.49168\n",
      "the var_names of adata.raw: adata.raw.var_names.is_unique=: True\n",
      "the var_names of adata.raw: adata.raw.var_names.is_unique=: True\n",
      "...Initializing source network using stacked autoencoder...\n",
      "   The number of training cell types is 5\n",
      "   The numbers of nodes in the SAE encoder layers are [64]\n",
      "   The pre-processed scRNA-seq data have 524 cells and 1102 genes\n",
      "   The pre-processed ST data have 3798 spots and 1102 genes\n",
      "   ...Pretraining the 1th layer...\n",
      "      The 1th layer has been pretrained\n",
      "   ...Copying layer-wise pretrained weights to deep autoencoders...\n",
      "   ...Fine-tuning autoencoder end-to-end...\n",
      "...Optimizing source network through cell clustering...\n",
      "['Bcell' 'Myeloid' 'Stromal' 'Tcell' 'Tumor']\n",
      "(524, 5)\n",
      "y_pred1 [1 4 1 ... 4 2 4]\n",
      "list(np.sort(np.unique(y_pred1))) [0, 1, 2, 3, 4]\n",
      "celltypes1 ['Bcell' 'Myeloid' 'Stromal' 'Tcell' 'Tumor']\n",
      "   Source network optimized\n",
      "...Initializing target network using source network weights...\n",
      "...Optimizing target network through DEC...\n",
      "(3798, 5)\n",
      "['Bcell', 'Myeloid', 'Stromal', 'Tcell', 'Tumor']\n",
      "(3798, 5)\n",
      "['Bcell', 'Myeloid', 'Stromal', 'Tcell', 'Tumor']\n",
      "(3798, 5)\n",
      "['Bcell', 'Myeloid', 'Stromal', 'Tcell', 'Tumor']\n",
      "Iteration 2: |JSD(Q0||Q1)-JSD(Q1||Q2)|=0.03611259>=0.01\n",
      "(3798, 5)\n",
      "['Bcell', 'Myeloid', 'Stromal', 'Tcell', 'Tumor']\n",
      "Iteration 3: |JSD(Q1||Q2)-JSD(Q2||Q3)|=0.02163513>=0.01\n",
      "(3798, 5)\n",
      "['Bcell', 'Myeloid', 'Stromal', 'Tcell', 'Tumor']\n",
      "Iteration 4: |JSD(Q2||Q3)-JSD(Q3||Q4)|=0.008944623>=0.01\n",
      "(3798, 5)\n",
      "['Bcell', 'Myeloid', 'Stromal', 'Tcell', 'Tumor']\n",
      "Iteration 5: |JSD(Q3||Q4)-JSD(Q4||Q5)|=0.0009132698>=0.01\n",
      "(3798, 5)\n",
      "['Bcell', 'Myeloid', 'Stromal', 'Tcell', 'Tumor']\n",
      "Iteration 6: |JSD(Q4||Q5)-JSD(Q5||Q6)|=0.016974024>=0.01\n",
      "(3798, 5)\n",
      "['Bcell', 'Myeloid', 'Stromal', 'Tcell', 'Tumor']\n",
      "Iteration 7: |JSD(Q5||Q6)-JSD(Q6||Q7)|=0.039148085>=0.01\n",
      "(3798, 5)\n",
      "['Bcell', 'Myeloid', 'Stromal', 'Tcell', 'Tumor']\n",
      "Iteration 8: |JSD(Q6||Q7)-JSD(Q7||Q8)|=0.050154656>=0.01\n",
      "(3798, 5)\n",
      "['Bcell', 'Myeloid', 'Stromal', 'Tcell', 'Tumor']\n",
      "Iteration 9: |JSD(Q7||Q8)-JSD(Q8||Q9)|=0.04612708>=0.01\n",
      "(3798, 5)\n",
      "['Bcell', 'Myeloid', 'Stromal', 'Tcell', 'Tumor']\n",
      "Iteration 10: |JSD(Q8||Q9)-JSD(Q9||Q10)|=0.008031547>=0.01\n",
      "(3798, 5)\n",
      "['Bcell', 'Myeloid', 'Stromal', 'Tcell', 'Tumor']\n",
      "Iteration 11: |JSD(Q9||Q10)-JSD(Q10||Q11)|=0.02496025>=0.01\n",
      "(3798, 5)\n",
      "['Bcell', 'Myeloid', 'Stromal', 'Tcell', 'Tumor']\n",
      "Iteration 12: |JSD(Q10||Q11)-JSD(Q11||Q12)|=0.0017813742<0.01\n",
      "Reached tolerance threshold. Stopped training.\n"
     ]
    }
   ],
   "source": [
    "#set working directory to spadecon_tutorial_data using os.chdir()\n",
    "adata_sc = sc.read('bc_sc.h5ad')\n",
    "adata_st = sc.read_10x_h5('V1_Breast_Cancer_Block_A_Section_1_filtered_feature_bc_matrix.h5')\n",
    "adata_st.var_names_make_unique()\n",
    "locations = pd.read_csv('', header = None, index_col = 0)\n",
    "locations = locations.loc[adata_st.obs.index]\n",
    "histology = io.imread('/Users/kylepcoleman/data/10x_breast_cancer/blocka_section1/spatial/V1_Breast_Cancer_Block_A_Section_1_image.tif')\n",
    "np.random.seed(10)\n",
    "clf = spd.SpaDecon()\n",
    "start = timeit.default_timer()\n",
    "clf.deconvolution(adata_sc, adata_st, histology, locations, technology = 'Visium')\n",
    "stop = timeit.default_timer()"
   ]
  },
  {
   "cell_type": "code",
   "execution_count": 3,
   "metadata": {},
   "outputs": [
    {
     "data": {
      "text/plain": [
       "92.814018887"
      ]
     },
     "execution_count": 3,
     "metadata": {},
     "output_type": "execute_result"
    }
   ],
   "source": [
    "spadecon_props = clf.props\n",
    "spadecon_props.to_csv('/Users/kylepcoleman/data/10x_breast_cancer/blocka_section1/spadecon/spadecon_bc_props_no_immune_sc_rounded.csv')\n",
    "runtime = stop-start\n",
    "runtime"
   ]
  },
  {
   "cell_type": "code",
   "execution_count": null,
   "metadata": {},
   "outputs": [],
   "source": []
  }
 ],
 "metadata": {
  "kernelspec": {
   "display_name": "spadecon",
   "language": "python",
   "name": "spadecon"
  },
  "language_info": {
   "codemirror_mode": {
    "name": "ipython",
    "version": 3
   },
   "file_extension": ".py",
   "mimetype": "text/x-python",
   "name": "python",
   "nbconvert_exporter": "python",
   "pygments_lexer": "ipython3",
   "version": "3.7.4"
  }
 },
 "nbformat": 4,
 "nbformat_minor": 5
}
